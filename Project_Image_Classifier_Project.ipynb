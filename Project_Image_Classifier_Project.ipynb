import tensorflow as tf
import tensorflow_datasets as tfds
import tensorflow_hub as hub

(train_ds, val_ds, test_ds), ds_info = tfds.load(
    'oxford_flowers102',
    split=['train', 'validation', 'test'],
    with_info=True,
    as_supervised=True
)

IMAGE_SIZE = 224
BATCH_SIZE = 32

def format_image(image, label):
    image = tf.image.resize(image, (IMAGE_SIZE, IMAGE_SIZE)) / 255.0
    return image, label

train_batches = train_ds.map(format_image).shuffle(1000).batch(BATCH_SIZE).prefetch(1)
val_batches = val_ds.map(format_image).batch(BATCH_SIZE).prefetch(1)
test_batches = test_ds.map(format_image).batch(BATCH_SIZE).prefetch(1)

feature_extractor_url = "https://tfhub.dev/google/tf2-preview/mobilenet_v2/feature_vector/4"

feature_extractor_layer = hub.KerasLayer(feature_extractor_url,
                                         input_shape=(224, 224, 3),
                                         trainable=False)
model = tf.keras.Sequential([
    feature_extractor_layer,
    tf.keras.layers.Dense(102, activation='softmax')  # عدد أصناف الزهور 102
])

model.compile(
    optimizer='adam',
    loss='sparse_categorical_crossentropy',
    metrics=['accuracy']
)

history = model.fit(train_batches, validation_data=val_batches, epochs=5)

model.save('my_model.h5')

model = tf.keras.models.load_model('my_model.h5', compile=False)


